{
 "cells": [
  {
   "cell_type": "markdown",
   "id": "63c54031-b5bd-4316-9303-7af0d3443ca3",
   "metadata": {
    "collapsed": false,
    "name": "STEP_1_CREATE_DEMO_DATA"
   },
   "source": [
    "# 1 - Imports"
   ]
  },
  {
   "cell_type": "code",
   "execution_count": 1,
   "id": "153fb7e4-91a7-4e50-bacc-51e29bc5a035",
   "metadata": {
    "collapsed": false,
    "language": "python",
    "name": "IMPORTS"
   },
   "outputs": [],
   "source": [
    "# Snowpark Imports\n",
    "from snowflake.snowpark import Session\n",
    "from snowflake.snowpark.context import get_active_session\n",
    "import snowflake.snowpark.functions as F\n",
    "from snowflake.snowpark.exceptions import SnowparkSessionException\n",
    "from snowflake.snowpark.functions import sproc\n",
    "from snowflake.snowpark import types as T\n",
    "\n",
    "# Snowpark ML\n",
    "from snowflake.ml.modeling.impute import SimpleImputer\n",
    "from snowflake.ml.modeling.preprocessing import OrdinalEncoder, OneHotEncoder\n",
    "from snowflake.ml.modeling.pipeline import Pipeline\n",
    "from snowflake.ml.modeling.xgboost import XGBRegressor\n",
    "from snowflake.ml.modeling.model_selection import GridSearchCV\n",
    "from snowflake.ml.modeling.metrics import mean_absolute_percentage_error\n",
    "from snowflake.ml.registry import Registry\n",
    "from snowflake.ml.feature_store import FeatureStore, FeatureView, Entity, CreationMode\n",
    "\n",
    "# Snowflake Task API\n",
    "from snowflake.core import Root\n",
    "from snowflake.core.database import Database\n",
    "from snowflake.core.schema import Schema\n",
    "from snowflake.core.warehouse import Warehouse\n",
    "from snowflake.core import Root\n",
    "from snowflake.core.task import StoredProcedureCall\n",
    "from snowflake.core.task.dagv1 import DAG, DAGTask, DAGOperation\n",
    "from snowflake.core._common import CreateMode\n",
    "\n",
    "# Other Imports\n",
    "from datetime import timedelta\n",
    "import pandas as pd\n",
    "import numpy as np\n",
    "import matplotlib.pyplot as plt\n",
    "import seaborn as sns\n",
    "import json\n",
    "from demo_data import generate_demo_data\n",
    "from plotting import plot_evidently_results, plot_model_metrics\n",
    "\n",
    "#\n",
    "import warnings\n",
    "warnings.filterwarnings(\"ignore\")"
   ]
  },
  {
   "cell_type": "markdown",
   "id": "482132b3-80f7-4b11-85e1-feff356cb24f",
   "metadata": {
    "name": "STEP_2_SESSION"
   },
   "source": [
    "# 2 - Create or Retrieve Session"
   ]
  },
  {
   "cell_type": "code",
   "execution_count": 2,
   "id": "7d3ab710-d0bd-4805-b3be-e9e14492bc54",
   "metadata": {
    "language": "python",
    "name": "RETRIEVE_OR_CREATE_SESSION"
   },
   "outputs": [],
   "source": [
    "try:\n",
    "    # Get active session if running in Snowflake Notebook\n",
    "    session = get_active_session()\n",
    "except SnowparkSessionException:\n",
    "    # Create a new session via .env file if running externally\n",
    "    import os\n",
    "    from dotenv import load_dotenv\n",
    "    load_dotenv()\n",
    "    snowflake_connection_cfg = {\n",
    "        \"ACCOUNT\": os.getenv('SF_ACCOUNT'),\n",
    "        \"USER\": os.getenv('SF_USER'),\n",
    "        \"ROLE\": os.getenv('SF_ROLE'),\n",
    "        \"PASSWORD\": os.getenv('SF_PASSWORD'),\n",
    "    }\n",
    "\n",
    "    # Creating Snowpark Session\n",
    "    session = Session.builder.configs(snowflake_connection_cfg).create()"
   ]
  },
  {
   "cell_type": "markdown",
   "id": "3e41175a-fbff-49c8-a7eb-25dc082f7924",
   "metadata": {
    "name": "STEP_3_ENV_SETUP"
   },
   "source": [
    "# 3 - Set Up Environment"
   ]
  },
  {
   "cell_type": "code",
   "execution_count": 3,
   "id": "e7f10c2c-ec1a-4c2d-a5f5-3ae740facb71",
   "metadata": {
    "language": "python",
    "name": "ENV_SETUP"
   },
   "outputs": [],
   "source": [
    "# Create Database & Schema\n",
    "root = Root(session)\n",
    "ml_demo_db = Database(name=\"SIMPLE_ML_DB\")\n",
    "ml_demo_db = root.databases.create(ml_demo_db, mode='or_replace')\n",
    "ml_demo_schema = Schema(name=\"SIMPLE_ML_SCHEMA\")\n",
    "ml_demo_schema = ml_demo_db.schemas.create(ml_demo_schema, mode='or_replace')\n",
    "\n",
    "# Create warehouse\n",
    "ml_wh = Warehouse(name=\"ML_WH\", warehouse_size=\"XSMALL\", auto_suspend=600, auto_resume='true')\n",
    "warehouses = root.warehouses\n",
    "ml_wh = warehouses.create(ml_wh)\n",
    "\n",
    "# Set context\n",
    "session.use_schema('SIMPLE_ML_DB.SIMPLE_ML_SCHEMA')\n",
    "session.use_warehouse('ML_WH')\n",
    "\n",
    "# Create Feature Store\n",
    "fs = FeatureStore(\n",
    "    session=session, \n",
    "    database=\"SIMPLE_ML_DB\", \n",
    "    name=\"SIMPLE_ML_SCHEMA\", \n",
    "    default_warehouse=\"COMPUTE_WH\",\n",
    "    creation_mode=CreationMode.CREATE_IF_NOT_EXIST,\n",
    ")"
   ]
  },
  {
   "cell_type": "markdown",
   "id": "ba0f9e1d-eca7-4fc8-a96a-ca11e3fe9eb5",
   "metadata": {
    "collapsed": false,
    "name": "STEP_4_DEMODATA"
   },
   "source": [
    "# 4 - Create Demo Data"
   ]
  },
  {
   "cell_type": "code",
   "execution_count": null,
   "id": "43ec07bd",
   "metadata": {},
   "outputs": [],
   "source": [
    "# We create three tables: \n",
    "# 1. Customer Life Time Value a.k.a Money spent with us (Email, Spent Money)\n",
    "# 2. General Customer Data (Email, Gender, Membership Status, Join Date)\n",
    "# 3. Customer Behaviour Data (Average Session Length, Average Time on App, Average Time on Website)"
   ]
  },
  {
   "cell_type": "code",
   "execution_count": 4,
   "id": "13ad6829",
   "metadata": {},
   "outputs": [
    {
     "name": "stdout",
     "output_type": "stream",
     "text": [
      "Added 1000 customers to table: CUSTOMER_LIFE_TIME_VALUE\n",
      "Added 1000 customers to table: CUSTOMER_GENERAL_DATA\n",
      "Added 1000 customers to table: CUSTOMER_BEHAVIOR_DATA\n"
     ]
    }
   ],
   "source": [
    "generate_demo_data(session, month=4)"
   ]
  },
  {
   "cell_type": "markdown",
   "id": "bc9273cf",
   "metadata": {},
   "source": [
    "# 5 - Data Exploration"
   ]
  },
  {
   "cell_type": "code",
   "execution_count": 5,
   "id": "c624ca11",
   "metadata": {},
   "outputs": [
    {
     "name": "stdout",
     "output_type": "stream",
     "text": [
      "Customer Life Time Value Data:\n",
      "--------------------------------------------\n",
      "|\"EMAIL\"               |\"LIFE_TIME_VALUE\"  |\n",
      "--------------------------------------------\n",
      "|1fzRBt8ATy@a4eaR.com  |113.60             |\n",
      "|IbIhHT5h5F@qnwHw.com  |514.27             |\n",
      "--------------------------------------------\n",
      "\n",
      "Customer General Data:\n",
      "------------------------------------------------------------------------------\n",
      "|\"EMAIL\"               |\"GENDER\"  |\"MEMBERSHIP_STATUS\"  |\"MEMBER_JOIN_DATE\"  |\n",
      "------------------------------------------------------------------------------\n",
      "|1fzRBt8ATy@a4eaR.com  |FEMALE    |BASIC                |2024-04-21          |\n",
      "|IbIhHT5h5F@qnwHw.com  |MALE      |GOLD                 |2024-04-03          |\n",
      "------------------------------------------------------------------------------\n",
      "\n",
      "Customer Behavior Data:\n",
      "-------------------------------------------------------------------------------------------------------\n",
      "|\"EMAIL\"               |\"AVG_SESSION_LENGTH_MIN\"  |\"AVG_TIME_ON_APP_MIN\"  |\"AVG_TIME_ON_WEBSITE_MIN\"  |\n",
      "-------------------------------------------------------------------------------------------------------\n",
      "|1fzRBt8ATy@a4eaR.com  |2.136                     |4.136                  |4.136                      |\n",
      "|IbIhHT5h5F@qnwHw.com  |5.1427                    |8.1427                 |10.1427                    |\n",
      "-------------------------------------------------------------------------------------------------------\n",
      "\n"
     ]
    }
   ],
   "source": [
    "# Create a Snowpark DataFrames\n",
    "print('Customer Life Time Value Data:')\n",
    "ltv_df = session.table('CUSTOMER_LIFE_TIME_VALUE').drop('MONTH')\n",
    "ltv_df.show(n=2)\n",
    "\n",
    "print('Customer General Data:')\n",
    "cust_df = session.table('CUSTOMER_GENERAL_DATA')\n",
    "cust_df.show(n=2)\n",
    "\n",
    "print('Customer Behavior Data:')\n",
    "behavior_df = session.table('CUSTOMER_BEHAVIOR_DATA')\n",
    "behavior_df.show(n=2)"
   ]
  },
  {
   "cell_type": "code",
   "execution_count": 6,
   "id": "61282054",
   "metadata": {},
   "outputs": [
    {
     "name": "stdout",
     "output_type": "stream",
     "text": [
      "Statistical Data Analysis:\n",
      "---------------------------------------------------------\n",
      "|\"SUMMARY\"  |\"EMAIL\"               |\"LIFE_TIME_VALUE\"   |\n",
      "---------------------------------------------------------\n",
      "|count      |1000                  |1000.0              |\n",
      "|mean       |NULL                  |385.63942           |\n",
      "|stddev     |NULL                  |213.31221531986466  |\n",
      "|min        |00FBMsJJ6s@Jyaag.com  |1.21                |\n",
      "|max        |zwVs04Xwxx@ZkAHa.com  |748.64              |\n",
      "---------------------------------------------------------\n",
      "\n",
      "---------------------------------------------------------------------\n",
      "|\"SUMMARY\"  |\"EMAIL\"               |\"GENDER\"  |\"MEMBERSHIP_STATUS\"  |\n",
      "---------------------------------------------------------------------\n",
      "|count      |1000                  |1000      |1000                 |\n",
      "|mean       |NULL                  |NULL      |NULL                 |\n",
      "|stddev     |NULL                  |NULL      |NULL                 |\n",
      "|min        |00FBMsJJ6s@Jyaag.com  |FEMALE    |BASIC                |\n",
      "|max        |zwVs04Xwxx@ZkAHa.com  |MALE      |SILVER               |\n",
      "---------------------------------------------------------------------\n",
      "\n",
      "-------------------------------------------------------------------------------------------------------------------\n",
      "|\"SUMMARY\"  |\"EMAIL\"               |\"AVG_SESSION_LENGTH_MIN\"  |\"AVG_TIME_ON_APP_MIN\"  |\"AVG_TIME_ON_WEBSITE_MIN\"  |\n",
      "-------------------------------------------------------------------------------------------------------------------\n",
      "|count      |1000                  |814.0                     |856.0                  |828.0                      |\n",
      "|mean       |NULL                  |6.442185872235872         |7.8872841121495325     |8.896229106280193          |\n",
      "|stddev     |NULL                  |2.7159787688285757        |2.9414345742990426     |2.5329452907744145         |\n",
      "|min        |00FBMsJJ6s@Jyaag.com  |0.0376                    |1.0219                 |3.0376                     |\n",
      "|max        |zwVs04Xwxx@ZkAHa.com  |12.4765                   |14.4648                |14.4776                    |\n",
      "-------------------------------------------------------------------------------------------------------------------\n",
      "\n"
     ]
    }
   ],
   "source": [
    "# Describe data using various statistics\n",
    "print('Statistical Data Analysis:')\n",
    "ltv_df.describe().show()\n",
    "cust_df.describe().show()\n",
    "behavior_df.describe().show()"
   ]
  },
  {
   "cell_type": "markdown",
   "id": "84a18675-0de6-443d-8684-9eed6740909a",
   "metadata": {
    "collapsed": false,
    "name": "STEP_5_FEATURE_ENGINEERING"
   },
   "source": [
    "# 6 - Feature Engineering"
   ]
  },
  {
   "cell_type": "code",
   "execution_count": 7,
   "id": "4aff484a",
   "metadata": {},
   "outputs": [
    {
     "name": "stdout",
     "output_type": "stream",
     "text": [
      "--------------------------------------------------------------------------\n",
      "|\"NAME\"  |\"JOIN_KEYS\"  |\"DESC\"                            |\"OWNER\"       |\n",
      "--------------------------------------------------------------------------\n",
      "|EMAIL   |[\"EMAIL\"]    |Unique identifier for customers.  |ACCOUNTADMIN  |\n",
      "--------------------------------------------------------------------------\n",
      "\n"
     ]
    }
   ],
   "source": [
    "# Create a new entity for the Feature Store\n",
    "entity = Entity(name=\"EMAIL\", join_keys=[\"EMAIL\"], desc='Unique identifier for customers.')\n",
    "fs.register_entity(entity)\n",
    "fs.list_entities().show()"
   ]
  },
  {
   "cell_type": "markdown",
   "id": "ef6bc91f",
   "metadata": {},
   "source": [
    "### Register Customer General Features"
   ]
  },
  {
   "cell_type": "code",
   "execution_count": 8,
   "id": "b33a720b",
   "metadata": {},
   "outputs": [
    {
     "name": "stdout",
     "output_type": "stream",
     "text": [
      "---------------------------------------------------------------------------------------------------------\n",
      "|\"EMAIL\"               |\"GENDER\"  |\"MEMBERSHIP_STATUS\"  |\"MEMBER_JOIN_DATE\"  |\"MEMBERSHIP_LENGTH_DAYS\"  |\n",
      "---------------------------------------------------------------------------------------------------------\n",
      "|1fzRBt8ATy@a4eaR.com  |FEMALE    |BASIC                |2024-04-21          |59                        |\n",
      "|IbIhHT5h5F@qnwHw.com  |MALE      |GOLD                 |2024-04-03          |77                        |\n",
      "|QOTGLmIHFX@E0vay.com  |MALE      |PLATIN               |2024-04-01          |79                        |\n",
      "---------------------------------------------------------------------------------------------------------\n",
      "\n"
     ]
    }
   ],
   "source": [
    "# Create a new Feature Definition that captures the number of days since joining \n",
    "cust_feature_df = cust_df.with_column('MEMBERSHIP_LENGTH_DAYS', F.current_date()-F.col('MEMBER_JOIN_DATE'))\n",
    "cust_feature_df.show(n=3)"
   ]
  },
  {
   "cell_type": "code",
   "execution_count": 9,
   "id": "586ef3bf",
   "metadata": {},
   "outputs": [],
   "source": [
    "# Create Feature View\n",
    "cust_fv = FeatureView(\n",
    "    name=\"CUSTOMER_GENERAL_DATA_FEATURES\", \n",
    "    entities=[entity],\n",
    "    feature_df=cust_feature_df['EMAIL','GENDER','MEMBERSHIP_STATUS','MEMBERSHIP_LENGTH_DAYS'], \n",
    "    refresh_freq=\"1 minute\",  # can also be a cron schedule - * * * * * America/Los_Angeles\n",
    "    desc=\"Ecommerce Customer General Features\")\n",
    "\n",
    "# Add descriptions for some features\n",
    "cust_fv = cust_fv.attach_feature_desc(\n",
    "    {\n",
    "        \"GENDER\":\"Gender of the customer. Can be MALE or FEMALE.\",\n",
    "        \"MEMBERSHIP_STATUS\":\"Membership Status of the customer. Can be Bronze, Silver, Gold, Platin or Diamond.\",\n",
    "        \"MEMBERSHIP_LENGTH_DAYS\":\"Number of days since the customer joined the loyalty program. Calculated using the Join Date.\"\n",
    "    }\n",
    ")\n",
    "\n",
    "cust_fv = fs.register_feature_view(\n",
    "    feature_view=cust_fv, \n",
    "    version=\"V1\", \n",
    "    block=True)"
   ]
  },
  {
   "cell_type": "markdown",
   "id": "47930b7c",
   "metadata": {},
   "source": [
    "### Register Customer Behavior Features"
   ]
  },
  {
   "cell_type": "code",
   "execution_count": 10,
   "id": "15ed2ad6",
   "metadata": {},
   "outputs": [],
   "source": [
    "# Create Feature View\n",
    "behavior_fv = FeatureView(\n",
    "    name=\"CUSTOMER_BEHAVIOR_DATA_FEATURES\", \n",
    "    entities=[entity],\n",
    "    feature_df=behavior_df['EMAIL','AVG_SESSION_LENGTH_MIN','AVG_TIME_ON_APP_MIN','AVG_TIME_ON_WEBSITE_MIN'], \n",
    "    refresh_freq=\"1 minute\",  # can also be a cron schedule - * * * * * America/Los_Angeles\n",
    "    desc=\"Ecommerce Customer Behavior Features\")\n",
    "\n",
    "# Add descriptions for some features\n",
    "behavior_fv = behavior_fv.attach_feature_desc(\n",
    "    {\n",
    "        \"AVG_SESSION_LENGTH_MIN\":\"Average Session Length in Minutes.\",\n",
    "        \"AVG_TIME_ON_APP_MIN\":\"Average Time a customer spends in the app per day.\",\n",
    "        \"AVG_TIME_ON_WEBSITE_MIN\":\"Average Time a customers spend on the website per day.\",\n",
    "    }\n",
    ")\n",
    "\n",
    "behavior_fv = fs.register_feature_view(\n",
    "    feature_view=behavior_fv, \n",
    "    version=\"V1\", \n",
    "    block=True)"
   ]
  },
  {
   "cell_type": "markdown",
   "id": "db8312f8",
   "metadata": {},
   "source": [
    "### Generate a Training Dataset"
   ]
  },
  {
   "cell_type": "code",
   "execution_count": 11,
   "id": "4cbd2828",
   "metadata": {},
   "outputs": [
    {
     "name": "stdout",
     "output_type": "stream",
     "text": [
      "----------------------------------------------------------------------------------------------------------------------------------------------------------------------------------------\n",
      "|\"EMAIL\"               |\"LIFE_TIME_VALUE\"   |\"GENDER\"  |\"MEMBERSHIP_STATUS\"  |\"MEMBERSHIP_LENGTH_DAYS\"  |\"AVG_SESSION_LENGTH_MIN\"  |\"AVG_TIME_ON_APP_MIN\"  |\"AVG_TIME_ON_WEBSITE_MIN\"  |\n",
      "----------------------------------------------------------------------------------------------------------------------------------------------------------------------------------------\n",
      "|1fzRBt8ATy@a4eaR.com  |113.5999984741211   |FEMALE    |BASIC                |59                        |2.135999917984009         |4.136000156402588      |4.136000156402588          |\n",
      "|IbIhHT5h5F@qnwHw.com  |514.27001953125     |MALE      |GOLD                 |77                        |5.1427001953125           |8.1427001953125        |10.1427001953125           |\n",
      "|QOTGLmIHFX@E0vay.com  |649.5999755859375   |MALE      |PLATIN               |79                        |6.495999813079834         |7.495999813079834      |10.496000289916992         |\n",
      "|z9BeDK6QwK@CIiHX.com  |355.510009765625    |MALE      |GOLD                 |79                        |NULL                      |4.555099964141846      |7.555099964141846          |\n",
      "|sqO60lH4yv@WoLfl.com  |90.86000061035156   |MALE      |BASIC                |64                        |NULL                      |6.908599853515625      |5.908599853515625          |\n",
      "|ZJpz5VNaBo@vyB1u.com  |190.91000366210938  |FEMALE    |BRONZE               |69                        |6.90910005569458          |NULL                   |5.90910005569458           |\n",
      "|ymqThHcXmR@n0VRo.com  |634.1699829101562   |MALE      |PLATIN               |72                        |6.341700077056885         |12.341699600219727     |NULL                       |\n",
      "|mpAdF1awLk@ijZN1.com  |180.80999755859375  |MALE      |BRONZE               |78                        |6.80810022354126          |8.808099746704102      |5.80810022354126           |\n",
      "|DEP0MAxSPv@UgXQ7.com  |93.27999877929688   |MALE      |BASIC                |60                        |NULL                      |2.932800054550171      |4.932799816131592          |\n",
      "|8UYxvWiTX6@MJRqL.com  |172.80999755859375  |MALE      |BRONZE               |56                        |5.728099822998047         |4.728099822998047      |7.728099822998047          |\n",
      "----------------------------------------------------------------------------------------------------------------------------------------------------------------------------------------\n",
      "\n"
     ]
    }
   ],
   "source": [
    "registered_dataset = fs.generate_dataset(\n",
    "    name=\"ECOMMERCE_CUSTOMER_FEATURES\",\n",
    "    spine_df=ltv_df,\n",
    "    features=[cust_fv,behavior_fv],\n",
    "    #version=\"V4\",\n",
    "    spine_label_cols=[\"LIFE_TIME_VALUE\"],\n",
    "    desc=\"Training Data to train model to predict Customer Life Time Value.\"\n",
    ")\n",
    "\n",
    "# Retrieve a Snowpark DataFrame from the registered Dataset\n",
    "registered_dataset_df = registered_dataset.read.to_snowpark_dataframe()\n",
    "registered_dataset_df.show()"
   ]
  },
  {
   "cell_type": "markdown",
   "id": "80feef0b",
   "metadata": {},
   "source": [
    "# 7. Modelling"
   ]
  },
  {
   "cell_type": "code",
   "execution_count": 12,
   "id": "da668002",
   "metadata": {},
   "outputs": [],
   "source": [
    "# Split the data into train and test sets\n",
    "train_df, test_df = registered_dataset_df.random_split(weights=[0.9, 0.1], seed=0)\n",
    "train_df.count(), test_df.count()\n",
    "\n",
    "# Drop the Email column for Training\n",
    "train_df = train_df.drop('EMAIL')\n",
    "\n",
    "# Define sklearn-like Imputers\n",
    "si_numeric =  SimpleImputer(\n",
    "    input_cols=['AVG_SESSION_LENGTH_MIN','AVG_TIME_ON_APP_MIN','AVG_TIME_ON_WEBSITE_MIN'], \n",
    "    output_cols=['AVG_SESSION_LENGTH_MIN_IMP','AVG_TIME_ON_APP_MIN_IMP','AVG_TIME_ON_WEBSITE_MIN_IMP'],\n",
    "    strategy='mean',\n",
    "    drop_input_cols=False\n",
    ")\n",
    "\n",
    "# Define sklearn-like Encoders\n",
    "categories = {\n",
    "    \"MEMBERSHIP_STATUS\": np.array([\"BASIC\", \"BRONZE\", \"SILVER\", \"GOLD\", \"PLATIN\", \"DIAMOND\"]),\n",
    "}\n",
    "oe_categorical = OrdinalEncoder(\n",
    "    input_cols=[\"MEMBERSHIP_STATUS\"], \n",
    "    output_cols=[\"MEMBERSHIP_STATUS_OE\"], \n",
    "    categories=categories,\n",
    "    drop_input_cols=False\n",
    ")\n",
    "\n",
    "ohe_categorical = OneHotEncoder(\n",
    "    input_cols=[\"GENDER\"], \n",
    "    output_cols=[\"GENDER_OHE\"],\n",
    "    drop_input_cols=False\n",
    ")\n",
    "\n",
    "# Define the XGBoost model (incl. Hyperparameter Tuning)\n",
    "feature_cols = [\n",
    "    'GENDER_OHE_FEMALE',\n",
    "    'GENDER_OHE_MALE',\n",
    "    'MEMBERSHIP_STATUS_OE',\n",
    "    'MEMBERSHIP_LENGTH_DAYS',\n",
    "    'AVG_SESSION_LENGTH_MIN_IMP',\n",
    "    'AVG_TIME_ON_APP_MIN_IMP',\n",
    "    'AVG_TIME_ON_WEBSITE_MIN_IMP'\n",
    "]\n",
    "label_cols = ['LIFE_TIME_VALUE']\n",
    "output_cols = ['LIFE_TIME_VALUE_PREDICTION']\n",
    "\n",
    "grid_search = GridSearchCV(\n",
    "    estimator=XGBRegressor(),\n",
    "    param_grid={\n",
    "        \"n_estimators\":[100, 200, 300, 400],\n",
    "        \"learning_rate\":[0.1, 0.2, 0.3],\n",
    "    },\n",
    "    n_jobs = -1,\n",
    "    scoring=\"neg_mean_absolute_percentage_error\",\n",
    "    input_cols=feature_cols,\n",
    "    label_cols=label_cols,\n",
    "    output_cols=output_cols\n",
    ")\n",
    "\n",
    "# Build the pipeline\n",
    "model_pipeline = Pipeline(\n",
    "    steps=[\n",
    "        (\"SI_NUMERIC\",si_numeric),\n",
    "        (\"OE_CATEGORICAL\",oe_categorical),\n",
    "        (\"OHE_CATEGORICAL\",ohe_categorical),\n",
    "        (\"GRIDSEARCH_XGBOOST\",grid_search)\n",
    "    ]\n",
    ")\n",
    "\n",
    "# Fit the pipeline to the training data\n",
    "fitted_pipeline = model_pipeline.fit(train_df)"
   ]
  },
  {
   "cell_type": "markdown",
   "id": "928dfeb8-f4dd-42aa-a336-5cc40a8713d6",
   "metadata": {
    "collapsed": false,
    "name": "STEP_7_MODEL_EVALUATION"
   },
   "source": [
    "# 8 - Model Evaluation"
   ]
  },
  {
   "cell_type": "code",
   "execution_count": 13,
   "id": "85cdccdb-c7a1-46f1-a4b4-5cf643f95e51",
   "metadata": {
    "collapsed": false,
    "language": "python",
    "name": "ANALYZE_GRIDSEARCH"
   },
   "outputs": [
    {
     "data": {
      "image/png": "[encoded data removed]",
      "text/plain": [
       "<Figure size 600.861x500 with 1 Axes>"
      ]
     },
     "metadata": {},
     "output_type": "display_data"
    }
   ],
   "source": [
    "# Analyze grid search results\n",
    "gs_results = fitted_pipeline.to_sklearn().named_steps['GRIDSEARCH_XGBOOST'].cv_results_\n",
    "n_estimators_val = []\n",
    "learning_rate_val = []\n",
    "for param_dict in gs_results[\"params\"]:\n",
    "    n_estimators_val.append(param_dict[\"n_estimators\"])\n",
    "    learning_rate_val.append(param_dict[\"learning_rate\"])\n",
    "mape_val = gs_results[\"mean_test_score\"]*-1\n",
    "\n",
    "gs_results_df = pd.DataFrame(data={\n",
    "    \"n_estimators\":n_estimators_val,\n",
    "    \"learning_rate\":learning_rate_val,\n",
    "    \"mape\":mape_val})\n",
    "\n",
    "sns.relplot(data=gs_results_df, x=\"learning_rate\", y=\"mape\", hue=\"n_estimators\", kind=\"line\")\n",
    "\n",
    "plt.show()"
   ]
  },
  {
   "cell_type": "code",
   "execution_count": 14,
   "id": "b11b16fe-f967-4763-b958-1b52e393b339",
   "metadata": {
    "collapsed": false,
    "language": "python",
    "name": "EVALUATE_MODEL"
   },
   "outputs": [
    {
     "name": "stdout",
     "output_type": "stream",
     "text": [
      "-----------------------------------------------------\n",
      "|\"LIFE_TIME_VALUE\"   |\"LIFE_TIME_VALUE_PREDICTION\"  |\n",
      "-----------------------------------------------------\n",
      "|696.8400268554688   |686.01708984375               |\n",
      "|252.3300018310547   |247.95066833496094            |\n",
      "|571.6300048828125   |585.7958374023438             |\n",
      "|582.4600219726562   |589.985595703125              |\n",
      "|129.33999633789062  |83.7649154663086              |\n",
      "|302.2799987792969   |306.5988464355469             |\n",
      "|446.5               |424.07623291015625            |\n",
      "|12.829999923706055  |53.492393493652344            |\n",
      "|260.6400146484375   |264.5618591308594             |\n",
      "|742.1099853515625   |710.294921875                 |\n",
      "-----------------------------------------------------\n",
      "\n",
      "Mean absolute percentage error: 0.3360889345784607\n"
     ]
    },
    {
     "data": {
      "image/png": "[encoded data removed]",
      "text/plain": [
       "<Figure size 500x500 with 1 Axes>"
      ]
     },
     "metadata": {},
     "output_type": "display_data"
    }
   ],
   "source": [
    "# Predict LTV for customers in test data\n",
    "predictions = fitted_pipeline.predict(test_df)\n",
    "\n",
    "# Analyze results\n",
    "mape = mean_absolute_percentage_error(df=predictions, \n",
    "                                        y_true_col_names=\"LIFE_TIME_VALUE\", \n",
    "                                        y_pred_col_names=\"LIFE_TIME_VALUE_PREDICTION\")\n",
    "\n",
    "predictions.select(\"LIFE_TIME_VALUE\", \"LIFE_TIME_VALUE_PREDICTION\").show()\n",
    "print(f\"Mean absolute percentage error: {mape}\")\n",
    "\n",
    "# Plot actual vs predicted \n",
    "g = sns.relplot(\n",
    "    data=predictions[\"LIFE_TIME_VALUE\", \"LIFE_TIME_VALUE_PREDICTION\"].to_pandas().astype(\"float64\"), \n",
    "    x=\"LIFE_TIME_VALUE\", \n",
    "    y=\"LIFE_TIME_VALUE_PREDICTION\", \n",
    "    kind=\"scatter\")\n",
    "g.ax.axline((0,0), slope=1, color=\"r\")\n",
    "\n",
    "plt.show()"
   ]
  },
  {
   "cell_type": "markdown",
   "id": "2fc448e4-93e0-45b8-9091-606986388460",
   "metadata": {
    "collapsed": false,
    "name": "STEP_8_REGISTER_MODEL"
   },
   "source": [
    "# 9 - Register & Run Model"
   ]
  },
  {
   "cell_type": "code",
   "execution_count": 15,
   "id": "198c386c",
   "metadata": {},
   "outputs": [],
   "source": [
    "# Create reference to model registry\n",
    "reg = Registry(session=session, database_name=session.get_current_database(), schema_name=session.get_current_schema())\n",
    "\n",
    "# Register new model version\n",
    "registered_model = reg.log_model(\n",
    "    fitted_pipeline,\n",
    "    model_name=\"CUSTOMER_LTV_MODEL\",\n",
    "    comment=\"Model trained using GridsearchCV in Snowpark to predict Customer Life Time Value\",\n",
    "    metrics={\"mean_abs_pct_err\": mape},\n",
    "    conda_dependencies=['xgboost']\n",
    ")"
   ]
  },
  {
   "cell_type": "code",
   "execution_count": 18,
   "id": "3b9f511e",
   "metadata": {},
   "outputs": [
    {
     "name": "stdout",
     "output_type": "stream",
     "text": [
      "------------------------\n",
      "|\"EMAIL\"               |\n",
      "------------------------\n",
      "|a6qV1DjNWP@et10Y.com  |\n",
      "|xeQwO42Kco@syuJj.com  |\n",
      "|N7Ca7SOqKt@f4SHJ.com  |\n",
      "|7wv2aR0TiA@nJdvv.com  |\n",
      "|NDrDXfv2ZW@LwFX7.com  |\n",
      "|RCFaY77WVy@DflAH.com  |\n",
      "|zyaQ5PF6PK@8pjsY.com  |\n",
      "|izfbtw4NBC@c4bN8.com  |\n",
      "|BdB0kJP3RL@PtT3Z.com  |\n",
      "|hPBGdISPH1@xFhmM.com  |\n",
      "------------------------\n",
      "\n"
     ]
    }
   ],
   "source": [
    "# Generate new customers for year 2024\n",
    "# We simulate that newer customers have 3X avg_session_length and try to detect this drift\n",
    "generate_demo_data(session, month=5, num_customers=100, session_length_multiplier=3)\n",
    "\n",
    "# Retrieve new customers\n",
    "new_customers_df = session.table('CUSTOMER_LIFE_TIME_VALUE').filter(F.col('MONTH')==5).select('EMAIL')\n",
    "new_customers_df.show()"
   ]
  },
  {
   "cell_type": "code",
   "execution_count": 19,
   "id": "017d8898",
   "metadata": {},
   "outputs": [
    {
     "name": "stdout",
     "output_type": "stream",
     "text": [
      "-------------------------------------------------------------------------------------------------------------------------------------------------------------------\n",
      "|\"EMAIL\"               |\"GENDER\"  |\"MEMBERSHIP_STATUS\"  |\"MEMBERSHIP_LENGTH_DAYS\"  |\"AVG_SESSION_LENGTH_MIN\"  |\"AVG_TIME_ON_APP_MIN\"  |\"AVG_TIME_ON_WEBSITE_MIN\"  |\n",
      "-------------------------------------------------------------------------------------------------------------------------------------------------------------------\n",
      "|a6qV1DjNWP@et10Y.com  |FEMALE    |SILVER               |29                        |17.5722                   |9.5722                 |6.5722                     |\n",
      "|7wv2aR0TiA@nJdvv.com  |MALE      |SILVER               |49                        |6.4416                    |8.4416                 |6.4416                     |\n",
      "|NDrDXfv2ZW@LwFX7.com  |FEMALE    |GOLD                 |34                        |NULL                      |11.6506                |9.6506                     |\n",
      "|zyaQ5PF6PK@8pjsY.com  |MALE      |GOLD                 |42                        |16.3012                   |NULL                   |8.3012                     |\n",
      "|BdB0kJP3RL@PtT3Z.com  |MALE      |BRONZE               |30                        |14.172                    |9.172                  |NULL                       |\n",
      "|hPBGdISPH1@xFhmM.com  |MALE      |SILVER               |26                        |NULL                      |6.143                  |6.143                      |\n",
      "|xZ2jB4j6iG@LnF7E.com  |MALE      |DIAMOND              |31                        |10.1785                   |9.1785                 |13.1785                    |\n",
      "|CE8szvpt8h@2CvxZ.com  |FEMALE    |SILVER               |26                        |15.194                    |NULL                   |8.194                      |\n",
      "|13pSF34cUQ@HkouI.com  |MALE      |GOLD                 |42                        |19.5729                   |6.5729                 |10.5729                    |\n",
      "|Q7RasBfCR9@DFO5y.com  |MALE      |DIAMOND              |22                        |10.4152                   |NULL                   |11.4152                    |\n",
      "-------------------------------------------------------------------------------------------------------------------------------------------------------------------\n",
      "\n"
     ]
    }
   ],
   "source": [
    "# Retrieve features using the Spine DataFrame (can take up to a minute until values appear)\n",
    "# Assumption is you only have the unique-id EMAIL and need to retrieve the features to score the model\n",
    "new_customers_features = fs.retrieve_feature_values(new_customers_df, features=[cust_fv, behavior_fv])\n",
    "new_customers_features.show()"
   ]
  },
  {
   "cell_type": "code",
   "execution_count": 20,
   "id": "2557bdd3",
   "metadata": {},
   "outputs": [
    {
     "name": "stdout",
     "output_type": "stream",
     "text": [
      "----------------------------------------------------------------------------------------------------------------------------------------------------------------------------------------------------------------------------------------------------------------------------------------------------------------------------------------------------------------\n",
      "|\"EMAIL\"               |\"GENDER\"  |\"MEMBERSHIP_STATUS\"  |\"AVG_SESSION_LENGTH_MIN\"  |\"AVG_TIME_ON_APP_MIN\"  |\"AVG_TIME_ON_WEBSITE_MIN\"  |\"GENDER_OHE_FEMALE\"  |\"GENDER_OHE_MALE\"  |\"MEMBERSHIP_STATUS_OE\"  |\"MEMBERSHIP_LENGTH_DAYS\"  |\"AVG_SESSION_LENGTH_MIN_IMP\"  |\"AVG_TIME_ON_APP_MIN_IMP\"  |\"AVG_TIME_ON_WEBSITE_MIN_IMP\"  |\"LIFE_TIME_VALUE_PREDICTION\"  |\n",
      "----------------------------------------------------------------------------------------------------------------------------------------------------------------------------------------------------------------------------------------------------------------------------------------------------------------------------------------------------------------\n",
      "|7wv2aR0TiA@nJdvv.com  |MALE      |SILVER               |6.4416                    |8.4416                 |6.4416                     |0                    |1                  |2.0                     |49                        |6.4416                        |8.4416                     |6.4416                         |323.1949462890625             |\n",
      "|NDrDXfv2ZW@LwFX7.com  |FEMALE    |GOLD                 |NULL                      |11.6506                |9.6506                     |1                    |0                  |3.0                     |34                        |6.442939299397808             |11.6506                    |9.6506                         |471.0025329589844             |\n",
      "|hPBGdISPH1@xFhmM.com  |MALE      |SILVER               |NULL                      |6.143                  |6.143                      |0                    |1                  |2.0                     |26                        |6.442939299397808             |6.143                      |6.143                          |309.37164306640625            |\n",
      "|xZ2jB4j6iG@LnF7E.com  |MALE      |DIAMOND              |10.1785                   |9.1785                 |13.1785                    |0                    |1                  |5.0                     |31                        |10.1785                       |9.1785                     |13.1785                        |708.4454345703125             |\n",
      "|13pSF34cUQ@HkouI.com  |MALE      |GOLD                 |19.5729                   |6.5729                 |10.5729                    |0                    |1                  |3.0                     |42                        |19.5729                       |6.5729                     |10.5729                        |467.1241760253906             |\n",
      "|Q7RasBfCR9@DFO5y.com  |MALE      |DIAMOND              |10.4152                   |NULL                   |11.4152                    |0                    |1                  |5.0                     |22                        |10.4152                       |7.939948160736201          |11.4152                        |719.48291015625               |\n",
      "|VdBm0ecPdY@ku8n5.com  |MALE      |PLATIN               |NULL                      |7.0299                 |10.0299                    |0                    |1                  |4.0                     |47                        |6.442939299397808             |7.0299                     |10.0299                        |594.7594604492188             |\n",
      "|GCUX2E32hq@uVOac.com  |FEMALE    |BASIC                |NULL                      |7.4689                 |8.4689                     |1                    |0                  |0.0                     |44                        |6.442939299397808             |7.4689                     |8.4689                         |121.84504699707031            |\n",
      "|r1y35jbOBJ@tjdDB.com  |MALE      |SILVER               |14.8371                   |7.8371                 |NULL                       |0                    |1                  |2.0                     |43                        |14.8371                       |7.8371                     |8.914549496785508              |318.74493408203125            |\n",
      "|lcxIGhNPlm@Uwzh7.com  |MALE      |GOLD                 |12.9623                   |4.9623                 |7.9623                     |0                    |1                  |3.0                     |35                        |12.9623                       |4.9623                     |7.9623                         |469.98291015625               |\n",
      "----------------------------------------------------------------------------------------------------------------------------------------------------------------------------------------------------------------------------------------------------------------------------------------------------------------------------------------------------------------\n",
      "\n"
     ]
    }
   ],
   "source": [
    "# Create predictions from registered model given the retrieved features\n",
    "new_predictions = registered_model.run(new_customers_features, function_name='predict')\n",
    "new_predictions.show()"
   ]
  },
  {
   "cell_type": "markdown",
   "id": "2000751f",
   "metadata": {},
   "source": [
    "### [OPTIONAL] Use the model via SQL"
   ]
  },
  {
   "cell_type": "code",
   "execution_count": 21,
   "id": "2f94190b-6287-42de-92d6-dc1f81b802b9",
   "metadata": {
    "collapsed": false,
    "language": "python",
    "name": "CREATE_TMP_VIEW"
   },
   "outputs": [
    {
     "data": {
      "text/plain": [
       "[Row(status='View INFERENCE_TEST successfully created.')]"
      ]
     },
     "execution_count": 21,
     "metadata": {},
     "output_type": "execute_result"
    }
   ],
   "source": [
    "# Create a view that will be used in SQL to predict the target variable\n",
    "new_customers_features.create_or_replace_temp_view('INFERENCE_TEST')"
   ]
  },
  {
   "cell_type": "code",
   "execution_count": 22,
   "id": "a05ce8e3-0f34-4baa-8125-dc548cfb70e0",
   "metadata": {
    "language": "python",
    "name": "RUN_MODEL_IN_SQL"
   },
   "outputs": [
    {
     "name": "stdout",
     "output_type": "stream",
     "text": [
      "--------------------------------------------------------------------------------------------------------------------------------------------------------------------------------------------------\n",
      "|\"EMAIL\"               |\"GENDER\"  |\"MEMBERSHIP_STATUS\"  |\"MEMBERSHIP_LENGTH_DAYS\"  |\"AVG_SESSION_LENGTH_MIN\"  |\"AVG_TIME_ON_APP_MIN\"  |\"AVG_TIME_ON_WEBSITE_MIN\"  |\"LIFE_TIME_VALUE_PREDICTION\"  |\n",
      "--------------------------------------------------------------------------------------------------------------------------------------------------------------------------------------------------\n",
      "|7wv2aR0TiA@nJdvv.com  |MALE      |SILVER               |49                        |6.4416                    |8.4416                 |6.4416                     |3.231949462890625e+02         |\n",
      "|NDrDXfv2ZW@LwFX7.com  |FEMALE    |GOLD                 |34                        |NULL                      |11.6506                |9.6506                     |4.710025329589844e+02         |\n",
      "|hPBGdISPH1@xFhmM.com  |MALE      |SILVER               |26                        |NULL                      |6.143                  |6.143                      |3.093716430664062e+02         |\n",
      "|xZ2jB4j6iG@LnF7E.com  |MALE      |DIAMOND              |31                        |10.1785                   |9.1785                 |13.1785                    |7.084454345703125e+02         |\n",
      "|13pSF34cUQ@HkouI.com  |MALE      |GOLD                 |42                        |19.5729                   |6.5729                 |10.5729                    |4.671241760253906e+02         |\n",
      "|Q7RasBfCR9@DFO5y.com  |MALE      |DIAMOND              |22                        |10.4152                   |NULL                   |11.4152                    |7.194829101562500e+02         |\n",
      "|VdBm0ecPdY@ku8n5.com  |MALE      |PLATIN               |47                        |NULL                      |7.0299                 |10.0299                    |5.947594604492188e+02         |\n",
      "|GCUX2E32hq@uVOac.com  |FEMALE    |BASIC                |44                        |NULL                      |7.4689                 |8.4689                     |1.218450469970703e+02         |\n",
      "|r1y35jbOBJ@tjdDB.com  |MALE      |SILVER               |43                        |14.8371                   |7.8371                 |NULL                       |3.187449340820312e+02         |\n",
      "|lcxIGhNPlm@Uwzh7.com  |MALE      |GOLD                 |35                        |12.9623                   |4.9623                 |7.9623                     |4.699829101562500e+02         |\n",
      "--------------------------------------------------------------------------------------------------------------------------------------------------------------------------------------------------\n",
      "\n"
     ]
    }
   ],
   "source": [
    "# SQL Execution of the trained model\n",
    "session.sql(\"\"\"\n",
    "    SELECT *, \n",
    "        CUSTOMER_LTV_MODEL!PREDICT(\n",
    "            GENDER,\n",
    "            MEMBERSHIP_STATUS,\n",
    "            MEMBERSHIP_LENGTH_DAYS,\n",
    "            AVG_SESSION_LENGTH_MIN,\n",
    "            AVG_TIME_ON_APP_MIN,\n",
    "            AVG_TIME_ON_WEBSITE_MIN)['LIFE_TIME_VALUE_PREDICTION'] AS LIFE_TIME_VALUE_PREDICTION\n",
    "    FROM INFERENCE_TEST\n",
    "\"\"\").show()"
   ]
  },
  {
   "cell_type": "markdown",
   "id": "a504b9d8",
   "metadata": {},
   "source": [
    "# 10 - Model Monitoring & Email Notifications"
   ]
  },
  {
   "cell_type": "code",
   "execution_count": 29,
   "id": "7c569445",
   "metadata": {},
   "outputs": [
    {
     "name": "stdout",
     "output_type": "stream",
     "text": [
      "---------------------------------------------------\n",
      "|\"status\"                                         |\n",
      "---------------------------------------------------\n",
      "|MONITORING already exists, statement succeeded.  |\n",
      "---------------------------------------------------\n",
      "\n"
     ]
    }
   ],
   "source": [
    "# Setup the Email Integration\n",
    "session.sql(\"\"\"\n",
    "    CREATE OR REPLACE NOTIFICATION INTEGRATION my_email_int\n",
    "    TYPE=EMAIL\n",
    "    ENABLED=TRUE\n",
    "    ALLOWED_RECIPIENTS=('michael.gorkow@snowflake.com');\"\"\").collect()\n",
    "\n",
    "# Create a stage to store monitoring functions & results\n",
    "session.sql('CREATE STAGE IF NOT EXISTS MONITORING DIRECTORY = (ENABLE = TRUE)').show()"
   ]
  },
  {
   "cell_type": "code",
   "execution_count": 30,
   "id": "cb0e9c0e",
   "metadata": {},
   "outputs": [],
   "source": [
    "# Create a Stored Procedure to send emails\n",
    "@sproc(name='email_alerts', \n",
    "       packages=['snowflake-snowpark-python'], \n",
    "       is_permanent=True, \n",
    "       replace=True,\n",
    "       stage_location='@MONITORING', \n",
    "       session=session)\n",
    "def email_alerts(session: Session, alert_count: int) -> T.Variant:\n",
    "    session.sql(f\"\"\"CALL SYSTEM$SEND_EMAIL(\n",
    "        'my_email_int',\n",
    "        'michael.gorkow@snowflake.com',\n",
    "        'Model Monitoring Alert',\n",
    "        'Alerts Detected in IRIS_FEATURES$V1: {alert_count}');\"\"\").collect()    \n",
    "    return (\"Email Alerts Complete!\")"
   ]
  },
  {
   "cell_type": "code",
   "execution_count": 31,
   "id": "8b8737cf",
   "metadata": {},
   "outputs": [],
   "source": [
    "predictions.write.save_as_table('REFERENCE_DATA', mode='overwrite')\n",
    "new_predictions.write.save_as_table('CURRENT_DATA', mode='overwrite')"
   ]
  },
  {
   "cell_type": "code",
   "execution_count": 32,
   "id": "88200e6e",
   "metadata": {},
   "outputs": [
    {
     "name": "stderr",
     "output_type": "stream",
     "text": [
      "WARNING:snowflake.snowpark.session:Package 'evidently' is not installed in the local environment. Your UDF might not work when the package is installed on the server but not on your local environment.\n"
     ]
    }
   ],
   "source": [
    "@F.sproc(session=session, name='evidently_monitor', stage_location='@MONITORING',  \n",
    "       packages=['snowflake-snowpark-python', 'pandas', 'evidently', 'snowflake-ml-python'], \n",
    "       is_permanent=True, \n",
    "       replace=True)\n",
    "def monitor_model(session: Session) -> dict:\n",
    "    from evidently.test_preset import DataDriftTestPreset\n",
    "    from evidently.test_suite import TestSuite\n",
    "    from joblib import dump\n",
    "    from json import dumps\n",
    "\n",
    "    data_drift_columns = ['GENDER','MEMBERSHIP_STATUS','MEMBERSHIP_LENGTH_DAYS',\n",
    "                          'AVG_SESSION_LENGTH_MIN','AVG_TIME_ON_APP_MIN',\n",
    "                          'AVG_TIME_ON_WEBSITE_MIN']\n",
    "\n",
    "    reference = session.table('REFERENCE_DATA').select(data_drift_columns).sample(n=1000).to_pandas()\n",
    "    current = session.table('CURRENT_DATA').select(data_drift_columns).sample(n=1000).to_pandas()\n",
    "\n",
    "    # Generate a report from Evidently's default capabilities\n",
    "    report = TestSuite(tests=[DataDriftTestPreset(stattest=\"psi\", stattest_threshold='1'),])\n",
    "    report.run(reference_data=reference, current_data=current)\n",
    "    report.save_html(\"/tmp/report.html\")\n",
    "    session.file.put(\"/tmp/report.html\", '@MONITORING', auto_compress=False, overwrite=True)\n",
    "    test_summary = report.as_dict()\n",
    "\n",
    "    # Send an Email if any tests failed\n",
    "    if test_summary['summary']['failed_tests'] > 0:\n",
    "            session.sql(f\"\"\"CALL SYSTEM$SEND_EMAIL(\n",
    "                        'my_email_int',\n",
    "                        'michael.gorkow@snowflake.com',\n",
    "                        'Model Monitoring Alert',\n",
    "                        'Alerts Detected for Customer Lifetime Value Model: {test_summary['summary']['failed_tests']}');\"\"\").collect()\n",
    "    return test_summary"
   ]
  },
  {
   "cell_type": "code",
   "execution_count": 33,
   "id": "0fa960c6",
   "metadata": {},
   "outputs": [
    {
     "data": {
      "image/png": "[encoded data removed]",
      "text/plain": [
       "<Figure size 2100x600 with 3 Axes>"
      ]
     },
     "metadata": {},
     "output_type": "display_data"
    }
   ],
   "source": [
    "drift_detection_results = monitor_model(session)\n",
    "drift_detection_results = json.loads(drift_detection_results)\n",
    "drift_detection_results['summary']\n",
    "\n",
    "# We can also visualize the results from the drift detection\n",
    "plot_evidently_results(drift_detection_results)"
   ]
  },
  {
   "cell_type": "markdown",
   "id": "f5aaa594-b5f1-49e4-b37c-fce99f459e27",
   "metadata": {
    "collapsed": false,
    "name": "STEP_9_AUTOMATE"
   },
   "source": [
    "# 11 - Automate Pipeline"
   ]
  },
  {
   "cell_type": "code",
   "execution_count": 34,
   "id": "cb43d270-6b89-4219-8902-d3fbff156348",
   "metadata": {
    "language": "python",
    "name": "CREATE_STAGE"
   },
   "outputs": [
    {
     "name": "stdout",
     "output_type": "stream",
     "text": [
      "----------------------------------------------\n",
      "|\"status\"                                    |\n",
      "----------------------------------------------\n",
      "|Stage area DAG_STAGE successfully created.  |\n",
      "----------------------------------------------\n",
      "\n"
     ]
    }
   ],
   "source": [
    "# Create a new stage for the pipeline\n",
    "session.sql(\"CREATE OR REPLACE STAGE DAG_STAGE\").show()"
   ]
  },
  {
   "cell_type": "code",
   "execution_count": 35,
   "id": "cb7e06db",
   "metadata": {},
   "outputs": [],
   "source": [
    "def train_model(session:Session) -> str:\n",
    "    # Get spine dataframe\n",
    "    ltv_df = session.table('CUSTOMER_LIFE_TIME_VALUE').drop('YEAR')\n",
    "\n",
    "    # Reference Feature Store\n",
    "    fs = FeatureStore(\n",
    "        session=session, \n",
    "        database=\"SIMPLE_ML_DB\", \n",
    "        name=\"SIMPLE_ML_SCHEMA\", \n",
    "        default_warehouse=\"COMPUTE_WH\",\n",
    "    )\n",
    "    # Generate Dataset\n",
    "    registered_dataset = fs.generate_dataset(\n",
    "        name=\"ECOMMERCE_CUSTOMER_FEATURES\",\n",
    "        spine_df=ltv_df,\n",
    "        features=[\n",
    "            fs.get_feature_view('CUSTOMER_GENERAL_DATA_FEATURES', version='V1'),\n",
    "            fs.get_feature_view('CUSTOMER_BEHAVIOR_DATA_FEATURES', version='V1')],\n",
    "        spine_label_cols=[\"LIFE_TIME_VALUE\"],\n",
    "        desc=\"Training Data to train model to predict Customer Life Time Value.\"\n",
    "    )\n",
    "\n",
    "    # Retrieve a Snowpark DataFrame from the registered Dataset\n",
    "    registered_dataset_df = registered_dataset.read.to_snowpark_dataframe()\n",
    "\n",
    "    # Split the data into train and test sets\n",
    "    train_df, test_df = registered_dataset_df.random_split(weights=[0.9, 0.1], seed=0)\n",
    "\n",
    "    # Fit the pipeline to the training data\n",
    "    fitted_pipeline = model_pipeline.fit(train_df)\n",
    "\n",
    "    # Predict LTV for customers in test data\n",
    "    predictions = fitted_pipeline.predict(test_df)\n",
    "\n",
    "    # Calculate mape value\n",
    "    mape = mean_absolute_percentage_error(df=predictions, \n",
    "                                            y_true_col_names=\"LIFE_TIME_VALUE\", \n",
    "                                            y_pred_col_names=\"LIFE_TIME_VALUE_PREDICTION\")\n",
    "    \n",
    "    # Create reference to model registry\n",
    "    reg = Registry(session=session, database_name=session.get_current_database(), schema_name=session.get_current_schema())\n",
    "\n",
    "    # Register new model version\n",
    "    registered_model = reg.log_model(\n",
    "        fitted_pipeline,\n",
    "        model_name=\"CUSTOMER_LTV_MODEL\",\n",
    "        comment=\"Model trained using GridsearchCV in Snowpark to predict customer Life Time Value\",\n",
    "        metrics={\"mean_abs_pct_err\": mape},\n",
    "        conda_dependencies=['xgboost']\n",
    "    )\n",
    "\n",
    "    # Create datasets for drift detection\n",
    "    # Make sure to replace reference data with existing data and store new data as current data\n",
    "    session.table('CURRENT_DATA').write.save_as_table('REFERENCE_DATA', mode='overwrite')\n",
    "    predictions.write.save_as_table('CURRENT_DATA', mode='overwrite')\n",
    "\n",
    "    return f\"Registered new model with version {registered_model.version_name}\""
   ]
  },
  {
   "cell_type": "code",
   "execution_count": 37,
   "id": "7305e755-dc46-43ba-819a-6813a0267e08",
   "metadata": {
    "collapsed": false,
    "language": "python",
    "name": "DEFINE_AND_DEPLOY_DAG"
   },
   "outputs": [],
   "source": [
    "root = Root(session)\n",
    "\n",
    "with DAG(\"LTV_MODEL\", stage_location='DAG_STAGE', schedule=timedelta(minutes=10)) as dag:\n",
    "    task_train_model = DAGTask(\n",
    "        \"TRAIN_MODEL\",\n",
    "        definition=StoredProcedureCall(train_model, stage_location='DAG_STAGE', packages=[\"snowflake-snowpark-python\",\"snowflake-ml-python\",\"cryptography\"]),\n",
    "        warehouse=\"ML_WH\"\n",
    "    )\n",
    "    detect_drift = DAGTask(\n",
    "        \"DETECT_DRIFT\",\n",
    "        definition=\"CALL evidently_monitor()\",\n",
    "        warehouse=\"ML_WH\"\n",
    "    )\n",
    "\n",
    "task_train_model >> detect_drift    # make sure model training happens before drift detection\n",
    "dag_op = DAGOperation(ml_demo_schema)\n",
    "dag_op.deploy(dag, mode=CreateMode.or_replace)\n",
    "dag_op.run(dag)"
   ]
  },
  {
   "cell_type": "markdown",
   "id": "2dcd556f-84f8-4a34-8326-9555c232a4ea",
   "metadata": {
    "name": "VIEW_MODEL_VERSIONS"
   },
   "source": [
    "### Display the model versions\n",
    "Every 10 of minutes, you should see a new version popping up."
   ]
  },
  {
   "cell_type": "code",
   "execution_count": 43,
   "id": "f74df059",
   "metadata": {},
   "outputs": [
    {
     "data": {
      "text/html": [
       "<div>\n",
       "<style scoped>\n",
       "    .dataframe tbody tr th:only-of-type {\n",
       "        vertical-align: middle;\n",
       "    }\n",
       "\n",
       "    .dataframe tbody tr th {\n",
       "        vertical-align: top;\n",
       "    }\n",
       "\n",
       "    .dataframe thead th {\n",
       "        text-align: right;\n",
       "    }\n",
       "</style>\n",
       "<table border=\"1\" class=\"dataframe\">\n",
       "  <thead>\n",
       "    <tr style=\"text-align: right;\">\n",
       "      <th></th>\n",
       "      <th>created_on</th>\n",
       "      <th>name</th>\n",
       "      <th>aliases</th>\n",
       "      <th>comment</th>\n",
       "      <th>database_name</th>\n",
       "      <th>schema_name</th>\n",
       "      <th>module_name</th>\n",
       "      <th>is_default_version</th>\n",
       "      <th>functions</th>\n",
       "      <th>metadata</th>\n",
       "      <th>user_data</th>\n",
       "    </tr>\n",
       "  </thead>\n",
       "  <tbody>\n",
       "    <tr>\n",
       "      <th>0</th>\n",
       "      <td>2024-06-19 01:06:44.993000-07:00</td>\n",
       "      <td>SMART_GORILLA_2</td>\n",
       "      <td>[\"DEFAULT\",\"FIRST\"]</td>\n",
       "      <td>Model trained using GridsearchCV in Snowpark t...</td>\n",
       "      <td>SIMPLE_ML_DB</td>\n",
       "      <td>SIMPLE_ML_SCHEMA</td>\n",
       "      <td>CUSTOMER_LTV_MODEL</td>\n",
       "      <td>true</td>\n",
       "      <td>[\"PREDICT\"]</td>\n",
       "      <td>{\"metrics\": {\"mean_abs_pct_err\": 0.33608893457...</td>\n",
       "      <td>{}</td>\n",
       "    </tr>\n",
       "    <tr>\n",
       "      <th>1</th>\n",
       "      <td>2024-06-19 01:16:46.262000-07:00</td>\n",
       "      <td>PROUD_OWL_2</td>\n",
       "      <td>[\"LAST\"]</td>\n",
       "      <td>Model trained using GridsearchCV in Snowpark t...</td>\n",
       "      <td>SIMPLE_ML_DB</td>\n",
       "      <td>SIMPLE_ML_SCHEMA</td>\n",
       "      <td>CUSTOMER_LTV_MODEL</td>\n",
       "      <td>false</td>\n",
       "      <td>[\"PREDICT\"]</td>\n",
       "      <td>{\"metrics\": {\"mean_abs_pct_err\": 0.26451212081...</td>\n",
       "      <td>{}</td>\n",
       "    </tr>\n",
       "  </tbody>\n",
       "</table>\n",
       "</div>"
      ],
      "text/plain": [
       "                        created_on             name              aliases  \\\n",
       "0 2024-06-19 01:06:44.993000-07:00  SMART_GORILLA_2  [\"DEFAULT\",\"FIRST\"]   \n",
       "1 2024-06-19 01:16:46.262000-07:00      PROUD_OWL_2             [\"LAST\"]   \n",
       "\n",
       "                                             comment database_name  \\\n",
       "0  Model trained using GridsearchCV in Snowpark t...  SIMPLE_ML_DB   \n",
       "1  Model trained using GridsearchCV in Snowpark t...  SIMPLE_ML_DB   \n",
       "\n",
       "        schema_name         module_name is_default_version    functions  \\\n",
       "0  SIMPLE_ML_SCHEMA  CUSTOMER_LTV_MODEL               true  [\"PREDICT\"]   \n",
       "1  SIMPLE_ML_SCHEMA  CUSTOMER_LTV_MODEL              false  [\"PREDICT\"]   \n",
       "\n",
       "                                            metadata user_data  \n",
       "0  {\"metrics\": {\"mean_abs_pct_err\": 0.33608893457...        {}  \n",
       "1  {\"metrics\": {\"mean_abs_pct_err\": 0.26451212081...        {}  "
      ]
     },
     "execution_count": 43,
     "metadata": {},
     "output_type": "execute_result"
    }
   ],
   "source": [
    "reg.get_model('CUSTOMER_LTV_MODEL').show_versions()"
   ]
  },
  {
   "cell_type": "code",
   "execution_count": 56,
   "id": "25ee2852",
   "metadata": {},
   "outputs": [
    {
     "data": {
      "text/html": [
       "<div>\n",
       "<style scoped>\n",
       "    .dataframe tbody tr th:only-of-type {\n",
       "        vertical-align: middle;\n",
       "    }\n",
       "\n",
       "    .dataframe tbody tr th {\n",
       "        vertical-align: top;\n",
       "    }\n",
       "\n",
       "    .dataframe thead th {\n",
       "        text-align: right;\n",
       "    }\n",
       "</style>\n",
       "<table border=\"1\" class=\"dataframe\">\n",
       "  <thead>\n",
       "    <tr style=\"text-align: right;\">\n",
       "      <th></th>\n",
       "      <th>name</th>\n",
       "      <th>created_on</th>\n",
       "      <th>MAPE</th>\n",
       "    </tr>\n",
       "  </thead>\n",
       "  <tbody>\n",
       "    <tr>\n",
       "      <th>0</th>\n",
       "      <td>SMART_GORILLA_2</td>\n",
       "      <td>2024-06-19 01:06:44.993000-07:00</td>\n",
       "      <td>0.336089</td>\n",
       "    </tr>\n",
       "    <tr>\n",
       "      <th>1</th>\n",
       "      <td>PROUD_OWL_2</td>\n",
       "      <td>2024-06-19 01:16:46.262000-07:00</td>\n",
       "      <td>0.264512</td>\n",
       "    </tr>\n",
       "  </tbody>\n",
       "</table>\n",
       "</div>"
      ],
      "text/plain": [
       "              name                       created_on      MAPE\n",
       "0  SMART_GORILLA_2 2024-06-19 01:06:44.993000-07:00  0.336089\n",
       "1      PROUD_OWL_2 2024-06-19 01:16:46.262000-07:00  0.264512"
      ]
     },
     "execution_count": 56,
     "metadata": {},
     "output_type": "execute_result"
    }
   ],
   "source": [
    "version_metrics= reg.get_model('CUSTOMER_LTV_MODEL').show_versions()\n",
    "version_metrics['MAPE'] = version_metrics['metadata'].apply(lambda x: json.loads(x)['metrics']['mean_abs_pct_err'])\n",
    "version_metrics = version_metrics[['name','created_on','MAPE']]\n",
    "version_metrics"
   ]
  },
  {
   "cell_type": "code",
   "execution_count": 53,
   "id": "4248ef49",
   "metadata": {},
   "outputs": [
    {
     "data": {
      "image/png": "[encoded data removed]",
      "text/plain": [
       "<Figure size 1000x600 with 1 Axes>"
      ]
     },
     "metadata": {},
     "output_type": "display_data"
    }
   ],
   "source": [
    "plot_model_metrics(version_metrics)"
   ]
  },
  {
   "cell_type": "markdown",
   "id": "2937a21b-1873-42a0-8abb-ebe441c2cf66",
   "metadata": {
    "collapsed": false,
    "name": "STEP_10_CLEANUP"
   },
   "source": [
    "# 10 - Clean Up"
   ]
  },
  {
   "cell_type": "code",
   "execution_count": null,
   "id": "9ad4b4ba",
   "metadata": {},
   "outputs": [],
   "source": [
    "#ml_wh.delete()\n",
    "#ml_demo_db.delete()\n",
    "#session.close()"
   ]
  }
 ],
 "metadata": {
  "kernelspec": {
   "display_name": "pysnowpark_huggingface",
   "language": "python",
   "name": "python3"
  },
  "language_info": {
   "codemirror_mode": {
    "name": "ipython",
    "version": 3
   },
   "file_extension": ".py",
   "mimetype": "text/x-python",
   "name": "python",
   "nbconvert_exporter": "python",
   "pygments_lexer": "ipython3",
   "version": "3.11.9"
  }
 },
 "nbformat": 4,
 "nbformat_minor": 5
}
